{
 "metadata": {
  "name": ""
 },
 "nbformat": 3,
 "nbformat_minor": 0,
 "worksheets": [
  {
   "cells": [
    {
     "cell_type": "heading",
     "level": 1,
     "metadata": {},
     "source": [
      "Compare a VCF exome file with an exome microarray"
     ]
    },
    {
     "cell_type": "markdown",
     "metadata": {},
     "source": [
      "We will load a VCF and check how many snp are already present in an exome microarray. The specific dataset is from the Corpas Family publicly available dataset. See below. "
     ]
    },
    {
     "cell_type": "code",
     "collapsed": false,
     "input": [
      "from IPython.display import HTML\n",
      "HTML('<iframe src=http://manuelcorpas.com/tag/exome/ width=1000 height=200></iframe>')"
     ],
     "language": "python",
     "metadata": {},
     "outputs": [
      {
       "html": [
        "<iframe src=http://manuelcorpas.com/tag/exome/ width=1000 height=200></iframe>"
       ],
       "metadata": {},
       "output_type": "pyout",
       "prompt_number": 5,
       "text": [
        "<IPython.core.display.HTML at 0x27517d0>"
       ]
      }
     ],
     "prompt_number": 5
    },
    {
     "cell_type": "code",
     "collapsed": false,
     "input": [
      "import sys, os\n",
      "from bl.vl.kb import KnowledgeBase\n",
      "\n",
      "OME_HOST = '192.168.56.101' # 'biobank04.crs4.it' # os.getenv('OME_HOST', 'localhost')\n",
      "OME_USER = 'root' # 'irgb'  # os.getenv('OME_USER', 'root')\n",
      "OME_PASSWD = 'romeo' # '1rgb' #os.getenv('OME_PASSWD', 'romeo')\n",
      "CHECK_OME_VERSION = True\n",
      "\n",
      "BaseProxy = KnowledgeBase(driver='omero')\n",
      "\n",
      "class Proxy(BaseProxy):\n",
      "  def get_objects_dict(self, klass):\n",
      "    return dict((o.label, o) for o in super(Proxy, self).get_objects(klass))\n",
      "\n",
      "kb = Proxy(OME_HOST, OME_USER, OME_PASSWD, check_ome_version=CHECK_OME_VERSION)\n",
      "\n",
      "def cleanup():\n",
      "  print \"# disconnecting the kb\"\n",
      "  kb.disconnect()\n",
      "\n",
      "sys.exitfunc = cleanup\n",
      "\n",
      "print\n",
      "print \"### KB ENV PRELOADED ###\"\n",
      "print \"# connected to %s\" % OME_HOST\n",
      "print \"# knowledge base: kb\"\n",
      "print \"# extra method: kb.get_objects_dict\"\n",
      "print \"########################\""
     ],
     "language": "python",
     "metadata": {},
     "outputs": [
      {
       "output_type": "stream",
       "stream": "stdout",
       "text": [
        "\n",
        "### KB ENV PRELOADED ###\n",
        "# connected to 192.168.56.101\n",
        "# knowledge base: kb\n",
        "# extra method: kb.get_objects_dict\n",
        "########################\n"
       ]
      }
     ],
     "prompt_number": 6
    },
    {
     "cell_type": "code",
     "collapsed": false,
     "input": [
      "import vcf # PyVCF V6"
     ],
     "language": "python",
     "metadata": {},
     "outputs": [],
     "prompt_number": 7
    },
    {
     "cell_type": "markdown",
     "metadata": {},
     "source": [
      "FIXME: we could put here an http slurp or something like that. Also, I had to upcase 'contig' to 'CONTIG' in the header."
     ]
    },
    {
     "cell_type": "code",
     "collapsed": false,
     "input": [
      "vcf_reader = vcf.Reader(open('/var/tmp/Son_s_VCF_file_v1.vcf', 'r'))"
     ],
     "language": "python",
     "metadata": {},
     "outputs": [],
     "prompt_number": 8
    },
    {
     "cell_type": "code",
     "collapsed": false,
     "input": [
      "contigs = {}\n",
      "def chrom_label_fix(chr):\n",
      "    if chr == 'X': return 23\n",
      "    if chr == 'Y': return 24\n",
      "    if chr == 'MT': return 25\n",
      "    if chr == 'XY': return 26\n",
      "    if chr.isdigit(): return int(chr)\n",
      "    if chr not in contigs:\n",
      "        contigs[chr] = 26 + len(contigs)\n",
      "    return contigs[chr]"
     ],
     "language": "python",
     "metadata": {},
     "outputs": [],
     "prompt_number": 9
    },
    {
     "cell_type": "code",
     "collapsed": false,
     "input": [
      "selected = np.array([(chrom_label_fix(r.CHROM), r.POS, i, r.REF, str(r.ALT)) for i, r in enumerate(vcf_reader) if r.is_snp], \n",
      "                    dtype=[('chrom', 'i8'), ('pos', 'i8'), ('vpos', 'i8'), ('ref', '|S10'), ('alt', '|S2000')])"
     ],
     "language": "python",
     "metadata": {},
     "outputs": [],
     "prompt_number": 10
    },
    {
     "cell_type": "code",
     "collapsed": false,
     "input": [
      "nodes = np.zeros(len(selected), dtype=kb.VariantCallSupport.NODES_DTYPE)"
     ],
     "language": "python",
     "metadata": {},
     "outputs": [],
     "prompt_number": 11
    },
    {
     "cell_type": "code",
     "collapsed": false,
     "input": [
      "nodes['chrom'] = selected['chrom']\n",
      "nodes['pos'] = selected['pos']"
     ],
     "language": "python",
     "metadata": {},
     "outputs": [],
     "prompt_number": 12
    },
    {
     "cell_type": "code",
     "collapsed": false,
     "input": [
      "origin = np.zeros(len(selected), dtype=kb.VariantCallSupport.ATTR_ORIGIN_DTYPE)\n",
      "origin['vpos'] = selected['vpos']\n",
      "origin['vid'] = 'V03033333' # this would be the VID of the DataSample that points to the VCF file.\n",
      "origin['index'] = np.arange(len(origin))"
     ],
     "language": "python",
     "metadata": {},
     "outputs": [],
     "prompt_number": 13
    },
    {
     "cell_type": "code",
     "collapsed": false,
     "input": [
      "ref_genome = kb.get_by_label(kb.ReferenceGenome, 'GRCh37.1')"
     ],
     "language": "python",
     "metadata": {},
     "outputs": [],
     "prompt_number": 14
    },
    {
     "cell_type": "markdown",
     "metadata": {},
     "source": [
      "We are assuming that the VCF data has been aligned on GRCh37."
     ]
    },
    {
     "cell_type": "code",
     "collapsed": false,
     "input": [
      "study_label = 'test01'\n",
      "study = kb.get_study(study_label)"
     ],
     "language": "python",
     "metadata": {},
     "outputs": [],
     "prompt_number": 15
    },
    {
     "cell_type": "code",
     "collapsed": false,
     "input": [
      "action = kb.create_an_action(study)"
     ],
     "language": "python",
     "metadata": {},
     "outputs": [],
     "prompt_number": 16
    },
    {
     "cell_type": "code",
     "collapsed": false,
     "input": [
      "conf = {'action' : action, 'label': 'son_snps', 'status': kb.DataSampleStatus.USABLE, 'referenceGenome' : ref_genome}\n",
      "vcs_son = kb.factory.create(kb.VariantCallSupport, conf)"
     ],
     "language": "python",
     "metadata": {},
     "outputs": [],
     "prompt_number": 17
    },
    {
     "cell_type": "code",
     "collapsed": false,
     "input": [
      "vcs_son.define_support(nodes)\n",
      "vcs_son.define_field('origin', origin)"
     ],
     "language": "python",
     "metadata": {},
     "outputs": [],
     "prompt_number": 18
    },
    {
     "cell_type": "code",
     "collapsed": false,
     "input": [
      "vcss = kb.get_objects_dict(kb.VariantCallSupport)"
     ],
     "language": "python",
     "metadata": {},
     "outputs": [],
     "prompt_number": 19
    },
    {
     "cell_type": "code",
     "collapsed": false,
     "input": [
      "vcss"
     ],
     "language": "python",
     "metadata": {},
     "outputs": [
      {
       "metadata": {},
       "output_type": "pyout",
       "prompt_number": 20,
       "text": [
        "{'human_exom-V1-test+GRCh37.1': <bl.vl.kb.drivers.omero.variant_call_support.VariantCallSupport at 0x509e910>}"
       ]
      }
     ],
     "prompt_number": 20
    },
    {
     "cell_type": "code",
     "collapsed": false,
     "input": [
      "vcs_exom = kb.genomics.get_vcs_by_label('human_exom-V1-test+GRCh37.1')"
     ],
     "language": "python",
     "metadata": {},
     "outputs": [],
     "prompt_number": 21
    },
    {
     "cell_type": "code",
     "collapsed": false,
     "input": [
      "vcs_intersect = vcs_exom.intersection(vcs_son)"
     ],
     "language": "python",
     "metadata": {},
     "outputs": [],
     "prompt_number": 22
    },
    {
     "cell_type": "code",
     "collapsed": false,
     "input": [
      "len(vcs_intersect)"
     ],
     "language": "python",
     "metadata": {},
     "outputs": [
      {
       "metadata": {},
       "output_type": "pyout",
       "prompt_number": 23,
       "text": [
        "4296"
       ]
      }
     ],
     "prompt_number": 23
    },
    {
     "cell_type": "code",
     "collapsed": false,
     "input": [
      "intersect_orig = vcs_intersect.get_field('origin')"
     ],
     "language": "python",
     "metadata": {},
     "outputs": [],
     "prompt_number": 24
    },
    {
     "cell_type": "code",
     "collapsed": false,
     "input": [
      "intersect_orig[0:4]"
     ],
     "language": "python",
     "metadata": {},
     "outputs": [
      {
       "metadata": {},
       "output_type": "pyout",
       "prompt_number": 25,
       "text": [
        "array([(0, 'V03033333', 4),\n",
        "       (0, 'V09FC739CAA22D4A2CB1C9E34E42AA3CD9', 122961),\n",
        "       (1, 'V03033333', 9),\n",
        "       (1, 'V09FC739CAA22D4A2CB1C9E34E42AA3CD9', 215079)], \n",
        "      dtype=[('index', '<i8'), ('vid', 'S34'), ('vpos', '<i8')])"
       ]
      }
     ],
     "prompt_number": 25
    },
    {
     "cell_type": "code",
     "collapsed": false,
     "input": [
      "mset = kb.genomics.get_markers_array(vid='V09FC739CAA22D4A2CB1C9E34E42AA3CD9')"
     ],
     "language": "python",
     "metadata": {},
     "outputs": [],
     "prompt_number": 26
    },
    {
     "cell_type": "code",
     "collapsed": false,
     "input": [
      "rows_on_intersect = kb.genomics.get_markers_array_rows(mset, indices=intersect_orig['vpos'][intersect_orig['vid'] == mset.id])"
     ],
     "language": "python",
     "metadata": {},
     "outputs": [],
     "prompt_number": 27
    },
    {
     "cell_type": "code",
     "collapsed": false,
     "input": [
      "rows_on_intersect[0]"
     ],
     "language": "python",
     "metadata": {},
     "outputs": [
      {
       "metadata": {},
       "output_type": "pyout",
       "prompt_number": 28,
       "text": [
        "('exm2253575-0_B_R_1975256659', 122961, 'TGATCTCCAGCTGGATCTCCCGGTCACGCAGCTTGCGCCAGTGGCTGTAGTACAAGGTCA[A/G]GGGTGTCCCCTCTTCCCGGGTCAGCTTCTCCCAGGCTTCCTGGGGGGTTGGGGGAGTTCA', 0, 'V034C742A8C79148B28CFE8D0EDAEE772D')"
       ]
      }
     ],
     "prompt_number": 28
    },
    {
     "cell_type": "code",
     "collapsed": false,
     "input": [
      "selected[selected['vpos'] == 4]"
     ],
     "language": "python",
     "metadata": {},
     "outputs": [
      {
       "metadata": {},
       "output_type": "pyout",
       "prompt_number": 52,
       "text": [
        "array([(1, 881627, 4, 'G', '[A]')], \n",
        "      dtype=[('chrom', '<i8'), ('pos', '<i8'), ('vpos', '<i8'), ('ref', 'S10'), ('alt', 'S2000')])"
       ]
      }
     ],
     "prompt_number": 52
    },
    {
     "cell_type": "code",
     "collapsed": false,
     "input": [
      "rows_on_intersect[1]"
     ],
     "language": "python",
     "metadata": {},
     "outputs": [
      {
       "metadata": {},
       "output_type": "pyout",
       "prompt_number": 30,
       "text": [
        "('exm773-0_B_F_1921422091', 215079, 'GGGTCAGAGGCAGGCACAGACACAGGCACCGAGGGGAGTGGGCTCGAGGGCGTGGGTCCA[C/G]GTGCACTCTGCATGGCACTGAGGAACTGCAGGGAGAGCCAGGGCTGGGGCCTGGGTGGCA', 0, 'V034C742A8C79148B28CFE8D0EDAEE772D')"
       ]
      }
     ],
     "prompt_number": 30
    },
    {
     "cell_type": "code",
     "collapsed": false,
     "input": [
      "selected[selected['vpos'] == 9]"
     ],
     "language": "python",
     "metadata": {},
     "outputs": [
      {
       "metadata": {},
       "output_type": "pyout",
       "prompt_number": 31,
       "text": [
        "array([(1, 909238, 9, 'G', '[C]')], \n",
        "      dtype=[('chrom', '<i8'), ('pos', '<i8'), ('vpos', '<i8'), ('ref', 'S10'), ('alt', 'S2000')])"
       ]
      }
     ],
     "prompt_number": 31
    },
    {
     "cell_type": "markdown",
     "metadata": {},
     "source": [
      "Which is interesting."
     ]
    },
    {
     "cell_type": "code",
     "collapsed": false,
     "input": [
      "for i in range(10):\n",
      "    print selected[selected['vpos'] == intersect_orig[2*i][2]]\n",
      "    print rows_on_intersect[i]"
     ],
     "language": "python",
     "metadata": {},
     "outputs": [
      {
       "output_type": "stream",
       "stream": "stdout",
       "text": [
        "[(1, 881627, 4, 'G', '[A]')]\n",
        "('exm2253575-0_B_R_1975256659', 122961, 'TGATCTCCAGCTGGATCTCCCGGTCACGCAGCTTGCGCCAGTGGCTGTAGTACAAGGTCA[A/G]GGGTGTCCCCTCTTCCCGGGTCAGCTTCTCCCAGGCTTCCTGGGGGGTTGGGGGAGTTCA', 0, 'V034C742A8C79148B28CFE8D0EDAEE772D')\n",
        "[(1, 909238, 9, 'G', '[C]')]\n",
        "('exm773-0_B_F_1921422091', 215079, 'GGGTCAGAGGCAGGCACAGACACAGGCACCGAGGGGAGTGGGCTCGAGGGCGTGGGTCCA[C/G]GTGCACTCTGCATGGCACTGAGGAACTGCAGGGAGAGCCAGGGCTGGGGCCTGGGTGGCA', 0, 'V034C742A8C79148B28CFE8D0EDAEE772D')\n",
        "[(1, 1266738, 28, 'G', '[A]')]\n",
        "('exm2745-0_T_F_1919151215', 142253, 'CCCAGTCGGGGCAGCCACCTGCCGTGCCTGTTGGAAGTTGCCTCTGCCATGCTGGGCCCT[A/G]CTGTCCTGGGCCTCAGCCTCTGGGCTCTCCTGCACCCTGGGACGGGGGCCCCATTGTGCC', 0, 'V034C742A8C79148B28CFE8D0EDAEE772D')\n",
        "[(1, 1551927, 38, 'T', '[C]')]\n",
        "('exm3962-0_B_F_1921383699', 160161, 'GCCGTCCAGTCGCCCGCCGGGCCGCCTTGAGGCTCCTGGGCTGCAGCCCTGATGCCTGGA[A/G]ACTTTGGGACTGGCCTCTAGCCTCGCTGGGCTTCCAACCCTGTGGCCGAGGGGAGATGCC', 0, 'V034C742A8C79148B28CFE8D0EDAEE772D')\n",
        "[(1, 1650787, 54, 'T', '[C]')]\n",
        "('exm4399-0_B_F_1921512567', 166994, 'CTCGGAAAGAAAAAGTTCATCACAGAAAAGATGAAAAGAGAAAAGAAAAATGTAGGCATC[A/G]TAGCCATTCAGCAGAAGGGGGTACAGAAGCATTTACTTTCTTTGACATCATGTTCAAGTG', 0, 'V034C742A8C79148B28CFE8D0EDAEE772D')\n",
        "[(1, 1900232, 81, 'T', '[C]')]\n",
        "('exm4957-0_B_F_1921459951', 175316, 'TGAGAAGCGACTCCACGCAGGGCCTTTGAGGAGGAGCAGAAGCTCAGAAAGCAGGAGATC[A/G]TCAGTCGGATTCTGAAAGAGGAGGCTGAGGAGGAAAAGAGGAAGAAACAGCATCCCCCCA', 0, 'V034C742A8C79148B28CFE8D0EDAEE772D')\n",
        "[(1, 3329051, 104, 'G', '[A]')]\n",
        "('exm6605-0_T_F_1919138473', 198747, 'GCCCTCGCCCACAACTTGCTGGTCAAGGCCGAGCCAAAGTCACCCCGGGACGCCCTCAAG[A/G]TGGGCGGCCCCAGTGCCGAGTGCCCCTTTGATCTCACCACCAAGCCCAAAGACGTGAAGC', 0, 'V034C742A8C79148B28CFE8D0EDAEE772D')\n",
        "[(1, 3421897, 109, 'A', '[G]')]\n",
        "('exm6998-0_B_R_1919190104', 204435, 'TCACAGGCCACGCCCACTGGGCAGGTGCATGCCTGCCAGCACCCCGGCCCAAAGTAGCCC[A/G]GCTCACACTCTGCAGGGCGTGAGAGAGGGGTGGGTGGGGTTAACCGACCCTGGCGCCCCC', 0, 'V034C742A8C79148B28CFE8D0EDAEE772D')\n",
        "[(1, 5935162, 128, 'A', '[T]')]\n",
        "('exm8262-0_T_R_1921578292', 222466, 'ATAGCCCCTTGTGGAGGAGAGTGTGCCTGGGACCCTGTCCACCCATGTCCTCTTGTCTGC[A/T]GGCGCAGCAGAGCGTCCGCACACAGCACTTGCGGGACCTACAGGTCATCGCCGCCTACCG', 0, 'V034C742A8C79148B28CFE8D0EDAEE772D')\n",
        "[(1, 6278414, 145, 'A', '[G]')]\n",
        "('exm8990-0_T_F_1921490279', 233158, 'AGGCACCCGTGGATGAGCAGTCAGAGAGTCTACAGAACACGCACGACGACAGCAGGAACA[A/G]CGCGGCCTCAGCCAGGTAAAGCAAGTCTCTCCACTGGAGAGTGTGCACGCGATGTGGCTT', 0, 'V034C742A8C79148B28CFE8D0EDAEE772D')\n"
       ]
      }
     ],
     "prompt_number": 33
    }
   ],
   "metadata": {}
  }
 ]
}