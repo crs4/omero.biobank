{
 "metadata": {
  "name": ""
 },
 "nbformat": 3,
 "nbformat_minor": 0,
 "worksheets": [
  {
   "cells": [
    {
     "cell_type": "heading",
     "level": 1,
     "metadata": {},
     "source": [
      "Operations on VariantCallSupport objects"
     ]
    },
    {
     "cell_type": "code",
     "collapsed": false,
     "input": [
      "import sys, os\n",
      "from bl.vl.kb import KnowledgeBase\n",
      "\n",
      "OME_HOST = '192.168.56.101' # 'biobank04.crs4.it' # os.getenv('OME_HOST', 'localhost')\n",
      "OME_USER = 'root' # 'irgb'  # os.getenv('OME_USER', 'root')\n",
      "OME_PASSWD = 'romeo' # '1rgb' #os.getenv('OME_PASSWD', 'romeo')\n",
      "CHECK_OME_VERSION = True\n",
      "\n",
      "BaseProxy = KnowledgeBase(driver='omero')\n",
      "\n",
      "class Proxy(BaseProxy):\n",
      "  def get_objects_dict(self, klass):\n",
      "    return dict((o.label, o) for o in super(Proxy, self).get_objects(klass))\n",
      "\n",
      "kb = Proxy(OME_HOST, OME_USER, OME_PASSWD, check_ome_version=CHECK_OME_VERSION)\n",
      "\n",
      "def cleanup():\n",
      "  print \"# disconnecting the kb\"\n",
      "  kb.disconnect()\n",
      "\n",
      "sys.exitfunc = cleanup\n",
      "\n",
      "print\n",
      "print \"### KB ENV PRELOADED ###\"\n",
      "print \"# connected to %s\" % OME_HOST\n",
      "print \"# knowledge base: kb\"\n",
      "print \"# extra method: kb.get_objects_dict\"\n",
      "print \"########################\""
     ],
     "language": "python",
     "metadata": {},
     "outputs": [
      {
       "output_type": "stream",
       "stream": "stdout",
       "text": [
        "\n",
        "### KB ENV PRELOADED ###\n",
        "# connected to 192.168.56.101\n",
        "# knowledge base: kb\n",
        "# extra method: kb.get_objects_dict\n",
        "########################\n"
       ]
      }
     ],
     "prompt_number": 1
    },
    {
     "cell_type": "markdown",
     "metadata": {},
     "source": [
      "Reload a presaved vcs"
     ]
    },
    {
     "cell_type": "code",
     "collapsed": false,
     "input": [
      "vcss = kb.get_objects_dict(kb.VariantCallSupport)"
     ],
     "language": "python",
     "metadata": {},
     "outputs": [],
     "prompt_number": 2
    },
    {
     "cell_type": "code",
     "collapsed": false,
     "input": [
      "vcss"
     ],
     "language": "python",
     "metadata": {},
     "outputs": [
      {
       "metadata": {},
       "output_type": "pyout",
       "prompt_number": 3,
       "text": [
        "{'human_exom-V1-test+GRCh37.1': <bl.vl.kb.drivers.omero.variant_call_support.VariantCallSupport at 0x4845090>}"
       ]
      }
     ],
     "prompt_number": 3
    },
    {
     "cell_type": "code",
     "collapsed": false,
     "input": [
      "vcs = kb.genomics.get_vcs_by_label('human_exom-V1-test+GRCh37.1')"
     ],
     "language": "python",
     "metadata": {},
     "outputs": [],
     "prompt_number": 4
    },
    {
     "cell_type": "code",
     "collapsed": false,
     "input": [
      "ref_gen = vcs.referenceGenome"
     ],
     "language": "python",
     "metadata": {},
     "outputs": [],
     "prompt_number": 5
    },
    {
     "cell_type": "code",
     "collapsed": false,
     "input": [
      "ref_gen.label"
     ],
     "language": "python",
     "metadata": {},
     "outputs": [
      {
       "metadata": {},
       "output_type": "pyout",
       "prompt_number": 6,
       "text": [
        "'GRCh37.1'"
       ]
      }
     ],
     "prompt_number": 6
    },
    {
     "cell_type": "code",
     "collapsed": false,
     "input": [
      "ref_gen.nChroms"
     ],
     "language": "python",
     "metadata": {},
     "outputs": [
      {
       "metadata": {},
       "output_type": "pyout",
       "prompt_number": 7,
       "text": [
        "26"
       ]
      }
     ],
     "prompt_number": 7
    },
    {
     "cell_type": "code",
     "collapsed": false,
     "input": [
      "nodes = vcs.get_nodes()\n",
      "for i in range(1, ref_gen.nChroms):\n",
      "    print 'Chrom {} -> {} snps'.format(i, sum(nodes['chrom'] == i))"
     ],
     "language": "python",
     "metadata": {},
     "outputs": [
      {
       "output_type": "stream",
       "stream": "stdout",
       "text": [
        "Chrom 1 -> 25100 snps\n",
        "Chrom 2 -> 17502 snps\n",
        "Chrom 3 -> 14762 snps\n",
        "Chrom 4 -> 10377 snps\n",
        "Chrom 5 -> 11518 snps\n",
        "Chrom 6 -> 15466 snps\n",
        "Chrom 7 -> 11323 snps\n",
        "Chrom 8 -> 9069 snps\n",
        "Chrom 9 -> 10365 snps\n",
        "Chrom 10 -> 9641 snps\n",
        "Chrom 11 -> 15840 snps\n",
        "Chrom 12 -> 12472 snps\n",
        "Chrom 13 -> 4441 snps\n",
        "Chrom 14 -> 7831 snps\n",
        "Chrom 15 -> 8355 snps\n",
        "Chrom 16 -> 10551 snps\n",
        "Chrom 17 -> 13235 snps\n",
        "Chrom 18 -> 3797 snps\n",
        "Chrom 19 -> 15212 snps\n",
        "Chrom 20 -> 6517 snps\n",
        "Chrom 21 -> 2866 snps\n",
        "Chrom 22 -> 5225 snps\n",
        "Chrom 23 -> 5205 snps\n",
        "Chrom 24 -> 141 snps\n",
        "Chrom 25 -> 226 snps\n"
       ]
      }
     ],
     "prompt_number": 8
    },
    {
     "cell_type": "code",
     "collapsed": false,
     "input": [
      "vcs.get_nodes()[0:10]"
     ],
     "language": "python",
     "metadata": {},
     "outputs": [
      {
       "metadata": {},
       "output_type": "pyout",
       "prompt_number": 9,
       "text": [
        "array([(1, 762320), (1, 861349), (1, 865545), (1, 865584), (1, 865625),\n",
        "       (1, 865628), (1, 865662), (1, 865665), (1, 865694), (1, 865700)], \n",
        "      dtype=[('chrom', '<i8'), ('pos', '<i8')])"
       ]
      }
     ],
     "prompt_number": 9
    },
    {
     "cell_type": "heading",
     "level": 2,
     "metadata": {},
     "source": [
      "Basic operations"
     ]
    },
    {
     "cell_type": "code",
     "collapsed": false,
     "input": [
      "vcs2 = vcs.selection(((1, 762320), (1, 865625)))"
     ],
     "language": "python",
     "metadata": {},
     "outputs": [],
     "prompt_number": 10
    },
    {
     "cell_type": "code",
     "collapsed": false,
     "input": [
      "vcs3 = vcs.selection(((1, 865545), (1, 865665)))"
     ],
     "language": "python",
     "metadata": {},
     "outputs": [],
     "prompt_number": 11
    },
    {
     "cell_type": "code",
     "collapsed": false,
     "input": [
      "vcs4 = vcs2.intersection(vcs3)"
     ],
     "language": "python",
     "metadata": {},
     "outputs": [],
     "prompt_number": 12
    },
    {
     "cell_type": "code",
     "collapsed": false,
     "input": [
      "vcs4.get_nodes()"
     ],
     "language": "python",
     "metadata": {},
     "outputs": [
      {
       "metadata": {},
       "output_type": "pyout",
       "prompt_number": 13,
       "text": [
        "array([(1, 865545), (1, 865584)], \n",
        "      dtype=[('chrom', '<i8'), ('pos', '<i8')])"
       ]
      }
     ],
     "prompt_number": 13
    },
    {
     "cell_type": "code",
     "collapsed": false,
     "input": [
      "vcs5 = vcs2.union(vcs3)"
     ],
     "language": "python",
     "metadata": {},
     "outputs": [],
     "prompt_number": 14
    },
    {
     "cell_type": "code",
     "collapsed": false,
     "input": [
      "vcs5.get_nodes()"
     ],
     "language": "python",
     "metadata": {},
     "outputs": [
      {
       "metadata": {},
       "output_type": "pyout",
       "prompt_number": 15,
       "text": [
        "array([(1, 762320), (1, 861349), (1, 865545), (1, 865584), (1, 865625),\n",
        "       (1, 865628), (1, 865662)], \n",
        "      dtype=[('chrom', '<i8'), ('pos', '<i8')])"
       ]
      }
     ],
     "prompt_number": 15
    },
    {
     "cell_type": "code",
     "collapsed": false,
     "input": [
      "vcs6 = vcs2.complement(vcs3)"
     ],
     "language": "python",
     "metadata": {},
     "outputs": [],
     "prompt_number": 16
    },
    {
     "cell_type": "code",
     "collapsed": false,
     "input": [
      "vcs6.get_nodes()"
     ],
     "language": "python",
     "metadata": {},
     "outputs": [
      {
       "metadata": {},
       "output_type": "pyout",
       "prompt_number": 17,
       "text": [
        "array([(1, 762320), (1, 861349)], \n",
        "      dtype=[('chrom', '<i8'), ('pos', '<i8')])"
       ]
      }
     ],
     "prompt_number": 17
    },
    {
     "cell_type": "markdown",
     "metadata": {},
     "source": [
      "Note that, unless we do a vcs.save(), the vcs below are all only in the RAM of the client."
     ]
    },
    {
     "cell_type": "code",
     "collapsed": false,
     "input": [
      "len(vcs6)"
     ],
     "language": "python",
     "metadata": {},
     "outputs": [
      {
       "metadata": {},
       "output_type": "pyout",
       "prompt_number": 18,
       "text": [
        "2"
       ]
      }
     ],
     "prompt_number": 18
    },
    {
     "cell_type": "code",
     "collapsed": false,
     "input": [
      "vcs6.label"
     ],
     "language": "python",
     "metadata": {},
     "outputs": [
      {
       "metadata": {},
       "output_type": "pyout",
       "prompt_number": 19,
       "text": [
        "'0e88cf825c854cfcaaddf4d57dad80e2'"
       ]
      }
     ],
     "prompt_number": 19
    },
    {
     "cell_type": "code",
     "collapsed": false,
     "input": [
      "kb.get_objects_dict(kb.VariantCallSupport)"
     ],
     "language": "python",
     "metadata": {},
     "outputs": [
      {
       "metadata": {},
       "output_type": "pyout",
       "prompt_number": 20,
       "text": [
        "{'human_exom-V1-test+GRCh37.1': <bl.vl.kb.drivers.omero.variant_call_support.VariantCallSupport at 0x4845090>}"
       ]
      }
     ],
     "prompt_number": 20
    },
    {
     "cell_type": "code",
     "collapsed": false,
     "input": [
      "vcs6.save()"
     ],
     "language": "python",
     "metadata": {},
     "outputs": [],
     "prompt_number": 21
    },
    {
     "cell_type": "code",
     "collapsed": false,
     "input": [
      "kb.get_objects_dict(kb.VariantCallSupport)"
     ],
     "language": "python",
     "metadata": {},
     "outputs": [
      {
       "metadata": {},
       "output_type": "pyout",
       "prompt_number": 22,
       "text": [
        "{'0e88cf825c854cfcaaddf4d57dad80e2': <bl.vl.kb.drivers.omero.variant_call_support.VariantCallSupport at 0x4870e50>,\n",
        " 'human_exom-V1-test+GRCh37.1': <bl.vl.kb.drivers.omero.variant_call_support.VariantCallSupport at 0x4845090>}"
       ]
      }
     ],
     "prompt_number": 22
    },
    {
     "cell_type": "code",
     "collapsed": false,
     "input": [
      "kb.delete(vcs6)"
     ],
     "language": "python",
     "metadata": {},
     "outputs": [],
     "prompt_number": 23
    },
    {
     "cell_type": "code",
     "collapsed": false,
     "input": [
      "kb.get_objects_dict(kb.VariantCallSupport)"
     ],
     "language": "python",
     "metadata": {},
     "outputs": [
      {
       "metadata": {},
       "output_type": "pyout",
       "prompt_number": 24,
       "text": [
        "{'human_exom-V1-test+GRCh37.1': <bl.vl.kb.drivers.omero.variant_call_support.VariantCallSupport at 0x4845090>}"
       ]
      }
     ],
     "prompt_number": 24
    },
    {
     "cell_type": "code",
     "collapsed": false,
     "input": [
      "vcs6.get_nodes()"
     ],
     "language": "python",
     "metadata": {},
     "outputs": [
      {
       "metadata": {},
       "output_type": "pyout",
       "prompt_number": 25,
       "text": [
        "array([(1, 762320), (1, 861349)], \n",
        "      dtype=[('chrom', '<i8'), ('pos', '<i8')])"
       ]
      }
     ],
     "prompt_number": 25
    },
    {
     "cell_type": "code",
     "collapsed": false,
     "input": [],
     "language": "python",
     "metadata": {},
     "outputs": []
    }
   ],
   "metadata": {}
  }
 ]
}