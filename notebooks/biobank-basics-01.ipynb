{
 "metadata": {
  "name": ""
 },
 "nbformat": 3,
 "nbformat_minor": 0,
 "worksheets": [
  {
   "cells": [
    {
     "cell_type": "heading",
     "level": 1,
     "metadata": {},
     "source": [
      "Objects and Devices"
     ]
    },
    {
     "cell_type": "markdown",
     "metadata": {},
     "source": [
      "The goal of biobank is to mantain a consistent picture of physical and digital objects and the chain of operations that connect the objects between themselves. The permanence of objects is guaranteed by a backend system, but what we will describe here is, usually, the client side point of view. In this notebook we will describe the basic concepts of objects creation, destruction and how to represent transformations."
     ]
    },
    {
     "cell_type": "heading",
     "level": 2,
     "metadata": {},
     "source": [
      "Talking to the back-end"
     ]
    },
    {
     "cell_type": "markdown",
     "metadata": {},
     "source": [
      "First of all we need to connect to the back-end. FIXME: in the actual example, it would make sense to have generic test accounts, rather than irgb :-)"
     ]
    },
    {
     "cell_type": "code",
     "collapsed": false,
     "input": [
      "import sys, os\n",
      "from bl.vl.kb import KnowledgeBase\n",
      "\n",
      "OME_HOST = '192.168.56.101'  #'biobank04.crs4.it' # os.getenv('OME_HOST', 'localhost')\n",
      "OME_USER = 'root' #'irgb'  # os.getenv('OME_USER', 'root')\n",
      "OME_PASSWD = 'romeo' #'1rgb' #os.getenv('OME_PASSWD', 'romeo')\n",
      "CHECK_OME_VERSION = True\n",
      "\n",
      "BaseProxy = KnowledgeBase(driver='omero')\n",
      "\n",
      "class Proxy(BaseProxy):\n",
      "  def get_objects_dict(self, klass):\n",
      "    return dict((o.label, o) for o in super(Proxy, self).get_objects(klass))\n",
      "\n",
      "kb = Proxy(OME_HOST, OME_USER, OME_PASSWD, check_ome_version=CHECK_OME_VERSION)\n",
      "kb.connect()\n",
      "kb.start_keep_alive()\n",
      "\n",
      "def cleanup():\n",
      "  print \"# disconnecting the kb\"\n",
      "  kb.disconnect()\n",
      "\n",
      "sys.exitfunc = cleanup\n",
      "\n",
      "print\n",
      "print \"### KB ENV PRELOADED ###\"\n",
      "print \"# connected to %s\" % OME_HOST\n",
      "print \"# knowledge base: kb\"\n",
      "print \"# extra method: kb.get_objects_dict\"\n",
      "print \"########################\""
     ],
     "language": "python",
     "metadata": {},
     "outputs": [
      {
       "output_type": "stream",
       "stream": "stdout",
       "text": [
        "\n",
        "### KB ENV PRELOADED ###\n",
        "# connected to 192.168.56.101\n",
        "# knowledge base: kb\n",
        "# extra method: kb.get_objects_dict\n",
        "########################\n"
       ]
      }
     ],
     "prompt_number": 2
    },
    {
     "cell_type": "markdown",
     "metadata": {},
     "source": [
      "What the code above does is to establish a connection to the omero.biobank server. To comunicate with the server we will be using kb, a proxy object."
     ]
    },
    {
     "cell_type": "heading",
     "level": 2,
     "metadata": {},
     "source": [
      "Objects Creation and Deletion"
     ]
    },
    {
     "cell_type": "markdown",
     "metadata": {},
     "source": [
      "Omero.biobank has models for multiple physical and digital objects, and, if needed, it can be easily extended with new objects models. One of the simplest models is DataSample. It represents a blob of digital data. In reality, one typically uses instances of more specific models derived from DataSample and there are complexities related to data physical location. However, for the time being, we will consider the simple, unadorned, DataSample. \n",
      "\n",
      "FIXME: omero.biobank models are proxied by python classes in the client. The API is based on providing access, via kb, to these proxy classes and to global function that operate on them.\n",
      "\n",
      "First thing we will do is to create a DataSample instance, that we will call data_sample. The creation is done using the method create of  the kb factory (kb.factory). The moethod takes two parameters: the object class and a dict with the object fields assignments. All objects that correspond either to phyical (FIXME: what about HardwareDevice?) or to digital data objects require the specification of a field called 'action'. Its purpose will be explained later. For the time being we will use 'kb.create_an_action()' to get a dummy place holder.\n",
      "\n",
      "To create a DataSample we need to assing an unique label and a status attribute, together with the action mentioned above."
     ]
    },
    {
     "cell_type": "code",
     "collapsed": false,
     "input": [
      "action = kb.create_an_action()\n",
      "data_sample = kb.factory.create(kb.DataSample, \n",
      "                                conf = {'label': 'a foo label', 'status': kb.DataSampleStatus.USABLE, 'action': action})"
     ],
     "language": "python",
     "metadata": {},
     "outputs": [],
     "prompt_number": 2
    },
    {
     "cell_type": "code",
     "collapsed": false,
     "input": [
      "data_sample.label, data_sample.status"
     ],
     "language": "python",
     "metadata": {},
     "outputs": [
      {
       "metadata": {},
       "output_type": "pyout",
       "prompt_number": 3,
       "text": [
        "('a foo label',\n",
        " <bl.vl.kb.drivers.omero.data_samples.DataSampleStatus at 0x2756110>)"
       ]
      }
     ],
     "prompt_number": 3
    },
    {
     "cell_type": "markdown",
     "metadata": {},
     "source": [
      "Now we have data_sample only in the client RAM and we need do save it in omero.biobank. By invoking .is_mapped() we check if it exists in the db."
     ]
    },
    {
     "cell_type": "code",
     "collapsed": false,
     "input": [
      "data_sample.is_mapped()"
     ],
     "language": "python",
     "metadata": {},
     "outputs": [
      {
       "metadata": {},
       "output_type": "pyout",
       "prompt_number": 4,
       "text": [
        "False"
       ]
      }
     ],
     "prompt_number": 4
    },
    {
     "cell_type": "code",
     "collapsed": false,
     "input": [
      "data_sample.save()"
     ],
     "language": "python",
     "metadata": {},
     "outputs": [
      {
       "metadata": {},
       "output_type": "pyout",
       "prompt_number": 5,
       "text": [
        "<bl.vl.kb.drivers.omero.data_samples.DataSample at 0x2750f10>"
       ]
      }
     ],
     "prompt_number": 5
    },
    {
     "cell_type": "code",
     "collapsed": false,
     "input": [
      "data_sample.is_mapped()"
     ],
     "language": "python",
     "metadata": {},
     "outputs": [
      {
       "metadata": {},
       "output_type": "pyout",
       "prompt_number": 6,
       "text": [
        "True"
       ]
      }
     ],
     "prompt_number": 6
    },
    {
     "cell_type": "markdown",
     "metadata": {},
     "source": [
      "All omero.biobank objects are uniquely identified by a an id called a 'vid'. For instance,"
     ]
    },
    {
     "cell_type": "code",
     "collapsed": false,
     "input": [
      "data_sample.id"
     ],
     "language": "python",
     "metadata": {},
     "outputs": [
      {
       "metadata": {},
       "output_type": "pyout",
       "prompt_number": 7,
       "text": [
        "'V0B25AEA2DBA4E456380CF36D05F033299'"
       ]
      }
     ],
     "prompt_number": 7
    },
    {
     "cell_type": "markdown",
     "metadata": {},
     "source": [
      "Once objects have been created can be destroyed."
     ]
    },
    {
     "cell_type": "code",
     "collapsed": false,
     "input": [
      "kb.delete(action)"
     ],
     "language": "python",
     "metadata": {},
     "outputs": [
      {
       "ename": "KBError",
       "evalue": "object is referenced by one or more objects",
       "output_type": "pyerr",
       "traceback": [
        "\u001b[1;31m---------------------------------------------------------------------------\u001b[0m\n\u001b[1;31mKBError\u001b[0m                                   Traceback (most recent call last)",
        "\u001b[1;32m<ipython-input-8-dc02a02867bd>\u001b[0m in \u001b[0;36m<module>\u001b[1;34m()\u001b[0m\n\u001b[1;32m----> 1\u001b[1;33m \u001b[0mkb\u001b[0m\u001b[1;33m.\u001b[0m\u001b[0mdelete\u001b[0m\u001b[1;33m(\u001b[0m\u001b[0maction\u001b[0m\u001b[1;33m)\u001b[0m\u001b[1;33m\u001b[0m\u001b[0m\n\u001b[0m",
        "\u001b[1;32m/home/zag/.local/lib64/python2.7/site-packages/bl/vl/kb/drivers/omero/proxy_core.pyc\u001b[0m in \u001b[0;36mdelete\u001b[1;34m(self, kb_obj)\u001b[0m\n\u001b[0;32m    276\u001b[0m                                   kb_obj.ome_obj)\n\u001b[0;32m    277\u001b[0m     \u001b[1;32mexcept\u001b[0m \u001b[0momero\u001b[0m\u001b[1;33m.\u001b[0m\u001b[0mValidationException\u001b[0m\u001b[1;33m:\u001b[0m\u001b[1;33m\u001b[0m\u001b[0m\n\u001b[1;32m--> 278\u001b[1;33m       \u001b[1;32mraise\u001b[0m \u001b[0mkb\u001b[0m\u001b[1;33m.\u001b[0m\u001b[0mKBError\u001b[0m\u001b[1;33m(\u001b[0m\u001b[1;34m\"object is referenced by one or more objects\"\u001b[0m\u001b[1;33m)\u001b[0m\u001b[1;33m\u001b[0m\u001b[0m\n\u001b[0m\u001b[0;32m    279\u001b[0m     \u001b[1;32mexcept\u001b[0m \u001b[0momero\u001b[0m\u001b[1;33m.\u001b[0m\u001b[0mApiUsageException\u001b[0m\u001b[1;33m:\u001b[0m\u001b[1;33m\u001b[0m\u001b[0m\n\u001b[0;32m    280\u001b[0m       \u001b[1;32mraise\u001b[0m \u001b[0mkb\u001b[0m\u001b[1;33m.\u001b[0m\u001b[0mKBError\u001b[0m\u001b[1;33m(\u001b[0m\u001b[1;34m\"trying to delete non-persistent object\"\u001b[0m\u001b[1;33m)\u001b[0m\u001b[1;33m\u001b[0m\u001b[0m\n",
        "\u001b[1;31mKBError\u001b[0m: object is referenced by one or more objects"
       ]
      }
     ],
     "prompt_number": 8
    },
    {
     "cell_type": "markdown",
     "metadata": {},
     "source": [
      "Well, they can be deleted but in the right order. Omero.biobank maintains reference integrity. Thus, first we will have to delete data_sample and then action. FIXME: this will actually leave some debries behind, but it will probably make things to complicated right now."
     ]
    },
    {
     "cell_type": "code",
     "collapsed": false,
     "input": [
      "kb.delete(data_sample)"
     ],
     "language": "python",
     "metadata": {},
     "outputs": [],
     "prompt_number": 9
    },
    {
     "cell_type": "code",
     "collapsed": false,
     "input": [
      "kb.delete(action)"
     ],
     "language": "python",
     "metadata": {},
     "outputs": [],
     "prompt_number": 10
    },
    {
     "cell_type": "heading",
     "level": 2,
     "metadata": {},
     "source": [
      "Objects collections"
     ]
    },
    {
     "cell_type": "markdown",
     "metadata": {},
     "source": [
      "Omero.biobank handles collection by defining a new object -- instance of a class derived from VLCollection, the base abstract class -- and then  associating specific objects to it using instances of a support class. FIXME: this is not the most elegant thing that can be done....\n",
      "\n",
      "Consider, for instance, a collection of DataSamples. The concrete collection class is DataCollection and the way we would build the collection is as follows."
     ]
    },
    {
     "cell_type": "code",
     "collapsed": false,
     "input": [
      "action = kb.create_an_action()\n",
      "samples = [kb.factory.create(kb.DataSample, \n",
      "                             {'label': \"foodata_{}\".format(i),'status': kb.DataSampleStatus.USABLE, 'action': action}).save()\n",
      "           for i in range(10)]"
     ],
     "language": "python",
     "metadata": {},
     "outputs": [],
     "prompt_number": 11
    },
    {
     "cell_type": "code",
     "collapsed": false,
     "input": [
      "data_collection = kb.factory.create(kb.DataCollection, {'label': 'a collection', 'action': action}).save()"
     ],
     "language": "python",
     "metadata": {},
     "outputs": [],
     "prompt_number": 12
    },
    {
     "cell_type": "code",
     "collapsed": false,
     "input": [
      "dcis = [kb.factory.create(kb.DataCollectionItem, {'dataCollection' : data_collection, 'dataSample' : s}).save() for s in samples]"
     ],
     "language": "python",
     "metadata": {},
     "outputs": [],
     "prompt_number": 13
    },
    {
     "cell_type": "code",
     "collapsed": false,
     "input": [
      "kb.get_data_collection_items(data_collection)"
     ],
     "language": "python",
     "metadata": {},
     "outputs": [
      {
       "metadata": {},
       "output_type": "pyout",
       "prompt_number": 14,
       "text": [
        "[<bl.vl.kb.drivers.omero.objects_collections.DataCollectionItem at 0x4bc6850>,\n",
        " <bl.vl.kb.drivers.omero.objects_collections.DataCollectionItem at 0x4bbb9d0>,\n",
        " <bl.vl.kb.drivers.omero.objects_collections.DataCollectionItem at 0x49f5b50>,\n",
        " <bl.vl.kb.drivers.omero.objects_collections.DataCollectionItem at 0x49eacd0>,\n",
        " <bl.vl.kb.drivers.omero.objects_collections.DataCollectionItem at 0x49e0e50>,\n",
        " <bl.vl.kb.drivers.omero.objects_collections.DataCollectionItem at 0x49d5fd0>,\n",
        " <bl.vl.kb.drivers.omero.objects_collections.DataCollectionItem at 0x49cf190>,\n",
        " <bl.vl.kb.drivers.omero.objects_collections.DataCollectionItem at 0x49be910>,\n",
        " <bl.vl.kb.drivers.omero.objects_collections.DataCollectionItem at 0x49ccf90>,\n",
        " <bl.vl.kb.drivers.omero.objects_collections.DataCollectionItem at 0x4a3a8d0>]"
       ]
      }
     ],
     "prompt_number": 14
    },
    {
     "cell_type": "markdown",
     "metadata": {},
     "source": [
      "Note that a collection is a, essentially, a set."
     ]
    },
    {
     "cell_type": "code",
     "collapsed": false,
     "input": [
      "kb.factory.create(kb.DataCollectionItem, {'dataCollection' : data_collection, 'dataSample' : samples[0]}).save()"
     ],
     "language": "python",
     "metadata": {},
     "outputs": [
      {
       "output_type": "stream",
       "stream": "stderr",
       "text": [
        "2013-11-20 16:35:56|ERROR   |omero.ValidationException: could not insert: [ome.model.vl.DataCollectionItem]; SQL [insert into datacollectionitem (dataCollection, dataCollectionItemUK, dataSample, creation_id, external_id, group_id, owner_id, permissions, update_id, version, vid, id) values (?, ?, ?, ?, ?, ?, ?, ?, ?, ?, ?, ?)]; constraint [datacollectionitem_datacollectionitemuk_key]; nested exception is org.hibernate.exception.ConstraintViolationException: could not insert: [ome.model.vl.DataCollectionItem]\n"
       ]
      },
      {
       "output_type": "stream",
       "stream": "stderr",
       "text": [
        "2013-11-20 16:35:56|ERROR   |omero.ValidationException object: <class 'bl.vl.kb.drivers.omero.objects_collections.DataCollectionItem'>\n"
       ]
      },
      {
       "ename": "KBError",
       "evalue": "omero.ValidationException: could not insert: [ome.model.vl.DataCollectionItem]; SQL [insert into datacollectionitem (dataCollection, dataCollectionItemUK, dataSample, creation_id, external_id, group_id, owner_id, permissions, update_id, version, vid, id) values (?, ?, ?, ?, ?, ?, ?, ?, ?, ?, ?, ?)]; constraint [datacollectionitem_datacollectionitemuk_key]; nested exception is org.hibernate.exception.ConstraintViolationException: could not insert: [ome.model.vl.DataCollectionItem]",
       "output_type": "pyerr",
       "traceback": [
        "\u001b[1;31m---------------------------------------------------------------------------\u001b[0m\n\u001b[1;31mKBError\u001b[0m                                   Traceback (most recent call last)",
        "\u001b[1;32m<ipython-input-17-0b216d420fcd>\u001b[0m in \u001b[0;36m<module>\u001b[1;34m()\u001b[0m\n\u001b[1;32m----> 1\u001b[1;33m \u001b[0mkb\u001b[0m\u001b[1;33m.\u001b[0m\u001b[0mfactory\u001b[0m\u001b[1;33m.\u001b[0m\u001b[0mcreate\u001b[0m\u001b[1;33m(\u001b[0m\u001b[0mkb\u001b[0m\u001b[1;33m.\u001b[0m\u001b[0mDataCollectionItem\u001b[0m\u001b[1;33m,\u001b[0m \u001b[1;33m{\u001b[0m\u001b[1;34m'dataCollection'\u001b[0m \u001b[1;33m:\u001b[0m \u001b[0mdata_collection\u001b[0m\u001b[1;33m,\u001b[0m \u001b[1;34m'dataSample'\u001b[0m \u001b[1;33m:\u001b[0m \u001b[0msamples\u001b[0m\u001b[1;33m[\u001b[0m\u001b[1;36m0\u001b[0m\u001b[1;33m]\u001b[0m\u001b[1;33m}\u001b[0m\u001b[1;33m)\u001b[0m\u001b[1;33m.\u001b[0m\u001b[0msave\u001b[0m\u001b[1;33m(\u001b[0m\u001b[1;33m)\u001b[0m\u001b[1;33m\u001b[0m\u001b[0m\n\u001b[0m",
        "\u001b[1;32m/home/zag/.local/lib64/python2.7/site-packages/bl/vl/kb/drivers/omero/wrapper.pyc\u001b[0m in \u001b[0;36msave\u001b[1;34m(self)\u001b[0m\n\u001b[0;32m    152\u001b[0m \u001b[1;33m\u001b[0m\u001b[0m\n\u001b[0;32m    153\u001b[0m   \u001b[1;32mdef\u001b[0m \u001b[0msave\u001b[0m\u001b[1;33m(\u001b[0m\u001b[0mself\u001b[0m\u001b[1;33m)\u001b[0m\u001b[1;33m:\u001b[0m\u001b[1;33m\u001b[0m\u001b[0m\n\u001b[1;32m--> 154\u001b[1;33m     \u001b[1;32mreturn\u001b[0m \u001b[0mself\u001b[0m\u001b[1;33m.\u001b[0m\u001b[0mproxy\u001b[0m\u001b[1;33m.\u001b[0m\u001b[0msave\u001b[0m\u001b[1;33m(\u001b[0m\u001b[0mself\u001b[0m\u001b[1;33m)\u001b[0m\u001b[1;33m\u001b[0m\u001b[0m\n\u001b[0m\u001b[0;32m    155\u001b[0m \u001b[1;33m\u001b[0m\u001b[0m\n\u001b[0;32m    156\u001b[0m   \u001b[1;32mdef\u001b[0m \u001b[0mserialize\u001b[0m\u001b[1;33m(\u001b[0m\u001b[0mself\u001b[0m\u001b[1;33m,\u001b[0m \u001b[0mengine\u001b[0m\u001b[1;33m,\u001b[0m \u001b[0mshallow\u001b[0m\u001b[1;33m=\u001b[0m\u001b[0mFalse\u001b[0m\u001b[1;33m)\u001b[0m\u001b[1;33m:\u001b[0m\u001b[1;33m\u001b[0m\u001b[0m\n",
        "\u001b[1;32m/home/zag/.local/lib64/python2.7/site-packages/bl/vl/kb/drivers/omero/proxy_core.pyc\u001b[0m in \u001b[0;36msave\u001b[1;34m(self, obj)\u001b[0m\n\u001b[0;32m    241\u001b[0m       \u001b[0mself\u001b[0m\u001b[1;33m.\u001b[0m\u001b[0mlogger\u001b[0m\u001b[1;33m.\u001b[0m\u001b[0merror\u001b[0m\u001b[1;33m(\u001b[0m\u001b[0mmsg\u001b[0m\u001b[1;33m)\u001b[0m\u001b[1;33m\u001b[0m\u001b[0m\n\u001b[0;32m    242\u001b[0m       \u001b[0mself\u001b[0m\u001b[1;33m.\u001b[0m\u001b[0mlogger\u001b[0m\u001b[1;33m.\u001b[0m\u001b[0merror\u001b[0m\u001b[1;33m(\u001b[0m\u001b[1;34m'omero.ValidationException object: %s'\u001b[0m \u001b[1;33m%\u001b[0m \u001b[0mtype\u001b[0m\u001b[1;33m(\u001b[0m\u001b[0mobj\u001b[0m\u001b[1;33m)\u001b[0m\u001b[1;33m)\u001b[0m\u001b[1;33m\u001b[0m\u001b[0m\n\u001b[1;32m--> 243\u001b[1;33m       \u001b[1;32mraise\u001b[0m \u001b[0mkb\u001b[0m\u001b[1;33m.\u001b[0m\u001b[0mKBError\u001b[0m\u001b[1;33m(\u001b[0m\u001b[0mmsg\u001b[0m\u001b[1;33m)\u001b[0m\u001b[1;33m\u001b[0m\u001b[0m\n\u001b[0m\u001b[0;32m    244\u001b[0m     \u001b[0mobj\u001b[0m\u001b[1;33m.\u001b[0m\u001b[0mome_obj\u001b[0m \u001b[1;33m=\u001b[0m \u001b[0mresult\u001b[0m\u001b[1;33m\u001b[0m\u001b[0m\n\u001b[0;32m    245\u001b[0m     \u001b[0mself\u001b[0m\u001b[1;33m.\u001b[0m\u001b[0mstore_to_cache\u001b[0m\u001b[1;33m(\u001b[0m\u001b[0mobj\u001b[0m\u001b[1;33m)\u001b[0m\u001b[1;33m\u001b[0m\u001b[0m\n",
        "\u001b[1;31mKBError\u001b[0m: omero.ValidationException: could not insert: [ome.model.vl.DataCollectionItem]; SQL [insert into datacollectionitem (dataCollection, dataCollectionItemUK, dataSample, creation_id, external_id, group_id, owner_id, permissions, update_id, version, vid, id) values (?, ?, ?, ?, ?, ?, ?, ?, ?, ?, ?, ?)]; constraint [datacollectionitem_datacollectionitemuk_key]; nested exception is org.hibernate.exception.ConstraintViolationException: could not insert: [ome.model.vl.DataCollectionItem]"
       ]
      }
     ],
     "prompt_number": 17
    },
    {
     "cell_type": "markdown",
     "metadata": {},
     "source": [
      "As you can see, trying to put the same object twice in a collection will fail. Just before we forget, let's clean up what we have just created."
     ]
    },
    {
     "cell_type": "code",
     "collapsed": false,
     "input": [
      "for dci in kb.get_data_collection_items(data_collection):\n",
      "    kb.delete(dci)"
     ],
     "language": "python",
     "metadata": {},
     "outputs": [],
     "prompt_number": 18
    },
    {
     "cell_type": "code",
     "collapsed": false,
     "input": [
      "for s in samples:\n",
      "    kb.delete(s)"
     ],
     "language": "python",
     "metadata": {},
     "outputs": [],
     "prompt_number": 19
    },
    {
     "cell_type": "code",
     "collapsed": false,
     "input": [
      "kb.delete(data_collection)"
     ],
     "language": "python",
     "metadata": {},
     "outputs": [],
     "prompt_number": 20
    },
    {
     "cell_type": "heading",
     "level": 2,
     "metadata": {},
     "source": [
      "Representing operations on objects"
     ]
    },
    {
     "cell_type": "markdown",
     "metadata": {},
     "source": [
      "Omero.biobank is designed to trace as accurately as possible, of course within intrinsic operational noise -- whatever we mean by that -- the full sequence of operations that connect one object to its ancestors. \n",
      "\n",
      "We can order all objects by the time of their creation, so we will use $o_j$ to indicate the $j$ objects in the temporal sequence. For all objects it is true that\n",
      "\n",
      "$$o_i = F_{\\alpha_i}[p_i](\\Pi_i(\\{o_k\\}_{k < i}),$$\n",
      "\n",
      "where $\\Pi_i$ is a projection operator that selects from the available objects the subset that it is  used by the operator $F_\\alpha$. We assume that we have a countable set of operators $F_\\alpha$,  here with $\\alpha=\\alpha_i$. With the symbol $p_i$ we indicate the set of parameters that specialize the application of $F_\\alpha$. "
     ]
    },
    {
     "cell_type": "markdown",
     "metadata": {},
     "source": [
      "To describe the $F_\\alpha$, kb uses objects that are instances of classes derived from Device."
     ]
    },
    {
     "cell_type": "code",
     "collapsed": false,
     "input": [
      "kb.Device.__fields__"
     ],
     "language": "python",
     "metadata": {},
     "outputs": [
      {
       "metadata": {},
       "output_type": "pyout",
       "prompt_number": 2,
       "text": [
        "{'label': ('string', 'required'),\n",
        " 'maker': ('string', 'required'),\n",
        " 'model': ('string', 'required'),\n",
        " 'release': ('string', 'required'),\n",
        " 'vid': ('vid', 'required')}"
       ]
      }
     ],
     "prompt_number": 2
    },
    {
     "cell_type": "markdown",
     "metadata": {},
     "source": [
      "A Device is characterized by a label, a maker, a model and a release. Thus, for instance, we can will now create a generic device."
     ]
    },
    {
     "cell_type": "code",
     "collapsed": false,
     "input": [
      "device = kb.factory.create(kb.Device, {'label': 'a-plain-device', 'maker': 'foo', 'model': 'foom', 'release': 'foor'}).save()"
     ],
     "language": "python",
     "metadata": {},
     "outputs": [],
     "prompt_number": 24
    },
    {
     "cell_type": "code",
     "collapsed": false,
     "input": [
      "device.id"
     ],
     "language": "python",
     "metadata": {},
     "outputs": [
      {
       "metadata": {},
       "output_type": "pyout",
       "prompt_number": 25,
       "text": [
        "'V070B74D4D00BA4511820B30439B384A8A'"
       ]
      }
     ],
     "prompt_number": 25
    },
    {
     "cell_type": "code",
     "collapsed": false,
     "input": [
      "device.label"
     ],
     "language": "python",
     "metadata": {},
     "outputs": [
      {
       "metadata": {},
       "output_type": "pyout",
       "prompt_number": 26,
       "text": [
        "'a-plain-device'"
       ]
      }
     ],
     "prompt_number": 26
    },
    {
     "cell_type": "code",
     "collapsed": false,
     "input": [
      "kb.delete(device)"
     ],
     "language": "python",
     "metadata": {},
     "outputs": [],
     "prompt_number": 27
    },
    {
     "cell_type": "code",
     "collapsed": false,
     "input": [
      "for k in kb.__dict__:\n",
      "    a = getattr(kb, k)\n",
      "    if isinstance(a, type) and issubclass(a, kb.Device):\n",
      "        print k"
     ],
     "language": "python",
     "metadata": {},
     "outputs": [
      {
       "output_type": "stream",
       "stream": "stdout",
       "text": [
        "SoftwareProgram\n",
        "AnnotatedChip\n",
        "Device\n",
        "HardwareDevice\n",
        "GenotypingProgram\n",
        "Chip\n",
        "Scanner\n"
       ]
      }
     ],
     "prompt_number": 23
    },
    {
     "cell_type": "markdown",
     "metadata": {},
     "source": [
      "FIXME: Of the Devices above:\n",
      "\n",
      "  * Chip is now deprecated, since it has been replaced by a more sophisticated model where chip is an object and not a operation; \n",
      "  * GenotypingProgram, and SoftwareProgram too actually, should both be replaced with a SoftwareWorkflow (=> GalaxyWorkflow ?) Device;\n",
      "  * AnnotatedChip is deprecated too."
     ]
    },
    {
     "cell_type": "heading",
     "level": 2,
     "metadata": {},
     "source": [
      "On being contravariant (and contrarian)"
     ]
    },
    {
     "cell_type": "markdown",
     "metadata": {},
     "source": [
      "In the specific context of omero.biobank, one is not interested in describing the future but rather the history of events that resulted in a given object. \n",
      "In the figure below, we show a cartoon dependency graph, loosely patterned on a specific example. The graph is directional, with flow going from the root towards the leaves. \n",
      "While each object has one incoming edge, it could have multiple outgoing edges. It is thus natural to  associate to each node of the graph, say $o_j$, an object, $a_j$, that saves sufficient information to describe how it has been produced, thus:\n",
      "\n",
      "$$a_j = (F_{\\alpha_j}, p_j, \\Pi_j(\\{o_k\\}_{k < j}).$$\n",
      "\n",
      "In principle, it would be enough to save $\\Pi_j$ but it is more efficient to keep the actual list $\\Pi_j(\\{o_k\\}_{k < j})$.\n",
      "\n",
      "In other words, we are describing a transformation $T$ that goes from the set of the nodes of $G$, the dependency graph, to the set of the $\\{a_k\\}_k$.\n",
      "\n",
      "If we describe a path in the graph by its two possible extrema, $P_{i,j}$ with $i<j$, the natural transformation of $P_{i,j}$ by $T$ is the reverse sequence $(a_j, a_{j-1}, a_{j-2}, ..., a_{i+1})$. In a way, $T$ is a sort of contravariant functor. If we think the paths as functions from subsets of $O=\\{ o_k\\}_{k}$ to $O$, then a composition $f{\\circ}g$ becomes a longer path, and \n",
      "\n",
      "$$T[f{\\circ}g](T(p))= (a_{f_j}, a_{f_{j-1}}, ..., a_{g_{j'}}, .... a_{g_{i'+1}}) = (T[g]{\\circ}T[f])(T(p))$$\n",
      "\n",
      "FIXME: ok, this will have to be explained with a better notation.\n"
     ]
    },
    {
     "cell_type": "code",
     "collapsed": false,
     "input": [
      "from IPython.display import HTML\n",
      "HTML('<iframe src=http://en.wikipedia.org/wiki/Covariance_and_contravariance_of_functors#Covariance_and_contravariance width=1000 height=200></iframe>')"
     ],
     "language": "python",
     "metadata": {},
     "outputs": [
      {
       "html": [
        "<iframe src=http://en.wikipedia.org/wiki/Covariance_and_contravariance_of_functors#Covariance_and_contravariance width=1000 height=200></iframe>"
       ],
       "metadata": {},
       "output_type": "pyout",
       "prompt_number": 1,
       "text": [
        "<IPython.core.display.HTML at 0x274f910>"
       ]
      }
     ],
     "prompt_number": 1
    },
    {
     "cell_type": "markdown",
     "metadata": {},
     "source": [
      "For historical reasons, the $a_k$ defined above are called _action(s)_ in omero.biobank. "
     ]
    },
    {
     "cell_type": "code",
     "collapsed": false,
     "input": [
      "kb.Action.__fields__"
     ],
     "language": "python",
     "metadata": {},
     "outputs": [
      {
       "metadata": {},
       "output_type": "pyout",
       "prompt_number": 3,
       "text": [
        "{'actionCategory': (bl.vl.kb.drivers.omero.action.ActionCategory, 'required'),\n",
        " 'beginTime': ('timestamp', 'required'),\n",
        " 'context': (bl.vl.kb.drivers.omero.action.Study, 'required'),\n",
        " 'description': ('text', 'optional'),\n",
        " 'device': (bl.vl.kb.drivers.omero.action.Device, 'optional'),\n",
        " 'endTime': ('timestamp', 'optional'),\n",
        " 'operator': ('string', 'required'),\n",
        " 'setup': (bl.vl.kb.drivers.omero.action.ActionSetup, 'optional'),\n",
        " 'vid': ('vid', 'required')}"
       ]
      }
     ],
     "prompt_number": 3
    },
    {
     "cell_type": "code",
     "collapsed": false,
     "input": [
      "for e in kb.ActionCategory.__enums__:\n",
      "    print e.enum_label()"
     ],
     "language": "python",
     "metadata": {},
     "outputs": [
      {
       "output_type": "stream",
       "stream": "stdout",
       "text": [
        "IMPORT\n",
        "CREATION\n",
        "EXTRACTION\n",
        "UPDATE\n",
        "ALIQUOTING\n",
        "MEASUREMENT\n",
        "PROCESSING\n"
       ]
      }
     ],
     "prompt_number": 11
    },
    {
     "cell_type": "markdown",
     "metadata": {},
     "source": [
      "The `ActionCategory` emum is basically a way to organize actions. "
     ]
    },
    {
     "cell_type": "code",
     "collapsed": false,
     "input": [
      "kb.Study.__fields__"
     ],
     "language": "python",
     "metadata": {},
     "outputs": [
      {
       "metadata": {},
       "output_type": "pyout",
       "prompt_number": 13,
       "text": [
        "{'description': ('string', 'optional'),\n",
        " 'endDate': ('timestamp', 'optional'),\n",
        " 'label': ('string', 'required'),\n",
        " 'startDate': ('timestamp', 'required'),\n",
        " 'vid': ('vid', 'required')}"
       ]
      }
     ],
     "prompt_number": 13
    },
    {
     "cell_type": "markdown",
     "metadata": {},
     "source": [
      "A `Study` is a poor man's mechanims to group things and provide a context. "
     ]
    },
    {
     "cell_type": "code",
     "collapsed": false,
     "input": [
      "kb.ActionSetup.__fields__"
     ],
     "language": "python",
     "metadata": {},
     "outputs": [
      {
       "metadata": {},
       "output_type": "pyout",
       "prompt_number": 12,
       "text": [
        "{'conf': ('string', 'required'),\n",
        " 'label': ('string', 'required'),\n",
        " 'vid': ('vid', 'required')}"
       ]
      }
     ],
     "prompt_number": 12
    },
    {
     "cell_type": "markdown",
     "metadata": {},
     "source": [
      "An `ActionSetup` is a way to describe a parater set. In practice, `conf` will contain a json encoding of \"parameters\". The context in which these parameters will be interpreted is defined by the specific `device` `Device`."
     ]
    },
    {
     "cell_type": "code",
     "collapsed": false,
     "input": [
      "for k in kb.__dict__:\n",
      "    a = getattr(kb, k)\n",
      "    if isinstance(a, type) and issubclass(a, kb.Action):\n",
      "        print k"
     ],
     "language": "python",
     "metadata": {},
     "outputs": [
      {
       "output_type": "stream",
       "stream": "stdout",
       "text": [
        "ActionOnDataCollectionItem\n",
        "ActionOnVessel\n",
        "ActionOnCollection\n",
        "ActionOnIndividual\n",
        "Action\n",
        "ActionOnAction\n",
        "ActionOnDataSample\n"
       ]
      }
     ],
     "prompt_number": 14
    },
    {
     "cell_type": "markdown",
     "metadata": {},
     "source": [
      "With respect to the $a_j$ defined above, we are missing the object on which the operation (i.e., the device) has been applied to $o_j$, that is the result of the projection $\\Pi_j(\\{o_k\\}_{k < j}$. This is done using one of the `ActionOnX` classes."
     ]
    },
    {
     "cell_type": "code",
     "collapsed": false,
     "input": [
      "kb.ActionOnDataSample.__fields__"
     ],
     "language": "python",
     "metadata": {},
     "outputs": [
      {
       "metadata": {},
       "output_type": "pyout",
       "prompt_number": 15,
       "text": [
        "{'target': (bl.vl.kb.drivers.omero.data_samples.DataSample, 'required')}"
       ]
      }
     ],
     "prompt_number": 15
    },
    {
     "cell_type": "code",
     "collapsed": false,
     "input": [
      "kb.ActionOnVessel.__fields__"
     ],
     "language": "python",
     "metadata": {},
     "outputs": [
      {
       "metadata": {},
       "output_type": "pyout",
       "prompt_number": 16,
       "text": [
        "{'target': (bl.vl.kb.drivers.omero.vessels.Vessel, 'required')}"
       ]
      }
     ],
     "prompt_number": 16
    },
    {
     "cell_type": "markdown",
     "metadata": {},
     "source": [
      "For purely historical reasons, again, the source,  $\\Pi_j(\\{o_k\\}_{k < j}$, object is called `target`."
     ]
    },
    {
     "cell_type": "markdown",
     "metadata": {},
     "source": [
      "We are now ready to consider the following case:\n",
      "\n",
      " * we have a DataSample with label 'foo' that we call $o_0$;\n",
      " * we use an operation that starting from $o_0$ produces $o_1$ using a specific device with a give configuration;\n",
      " * we save the result, and we track how we have obtained it."
     ]
    },
    {
     "cell_type": "code",
     "collapsed": false,
     "input": [
      "action0 = kb.create_an_action()\n",
      "data_sample_0 = kb.factory.create(kb.DataSample, \n",
      "                                  conf = {'label': 'a foo label 0', 'status': kb.DataSampleStatus.USABLE, 'action': action0}).save()\n",
      "device = kb.factory.create(kb.Device, {'label': 'a-plain-device', 'maker': 'foo', 'model': 'foom', 'release': 'foor'}).save()\n",
      "context = kb.factory.create(kb.Study, {'label': 'one more test'}).save()\n",
      "\n",
      "import json\n",
      "action_setup = kb.factory.create(kb.ActionSetup, {'label': 'parameters1', 'conf': json.dumps({'A': 232})}).save()\n",
      "\n",
      "action1 = kb.factory.create(kb.ActionOnDataSample, {'actionCategory': kb.ActionCategory.PROCESSING, \n",
      "                                                    'context': context, \n",
      "                                                    'device': device,\n",
      "                                                    'operator': 'Alfred E. Neumann',\n",
      "                                                    'setup': action_setup,\n",
      "                                                    'target': data_sample_0}).save()\n",
      "data_sample_1 = kb.factory.create(kb.DataSample, \n",
      "                                  conf = {'label': 'a foo label 1', 'status': kb.DataSampleStatus.USABLE, 'action': action1}).save()"
     ],
     "language": "python",
     "metadata": {},
     "outputs": [],
     "prompt_number": 3
    },
    {
     "cell_type": "code",
     "collapsed": false,
     "input": [
      "data_sample_1.action.device.label, data_sample_1.action.setup.label, data_sample_1.action.target.label"
     ],
     "language": "python",
     "metadata": {},
     "outputs": [
      {
       "metadata": {},
       "output_type": "pyout",
       "prompt_number": 8,
       "text": [
        "('a-plain-device', 'parameters1', 'a foo label 0')"
       ]
      }
     ],
     "prompt_number": 8
    },
    {
     "cell_type": "markdown",
     "metadata": {},
     "source": [
      "Which is reasonably similar to $a_j = (F_{\\alpha_j}, p_j, \\Pi_j(\\{o_k\\}_{k < j}).$"
     ]
    },
    {
     "cell_type": "code",
     "collapsed": false,
     "input": [
      "kb.delete(data_sample_1)\n",
      "kb.delete(action1)\n",
      "kb.delete(action_setup)\n",
      "kb.delete(device)\n",
      "kb.delete(context)\n",
      "kb.delete(data_sample_0)\n",
      "kb.delete(action0)"
     ],
     "language": "python",
     "metadata": {},
     "outputs": [],
     "prompt_number": 10
    },
    {
     "cell_type": "code",
     "collapsed": false,
     "input": [],
     "language": "python",
     "metadata": {},
     "outputs": []
    }
   ],
   "metadata": {}
  }
 ]
}