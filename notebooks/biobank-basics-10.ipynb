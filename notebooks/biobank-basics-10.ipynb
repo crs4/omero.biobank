{
 "metadata": {
  "name": ""
 },
 "nbformat": 3,
 "nbformat_minor": 0,
 "worksheets": [
  {
   "cells": [
    {
     "cell_type": "heading",
     "level": 1,
     "metadata": {},
     "source": [
      "Micro arrays datasets"
     ]
    },
    {
     "cell_type": "markdown",
     "metadata": {},
     "source": [
      "Omerobiobank has specialized objects to deal with the description of micro arrays dataset. The basic objects that should be captured are:\n",
      "\n",
      " * the physical chip that contain the microarray hibridization beads/grids\n",
      " * (possibly) the platform (usually a slide) where the chip is mounted\n",
      " * the raw datasets obtained by reading the hibridizaton results\n",
      "\n",
      "The raw datasets will then be converted to biologically informative data, but this is outside the scope of this notebook."
     ]
    },
    {
     "cell_type": "code",
     "collapsed": false,
     "input": [
      "import sys, os, uuid\n",
      "from bl.vl.kb import KnowledgeBase\n",
      "\n",
      "OME_HOST = os.getenv('OME_HOST', 'localhost')\n",
      "OME_USER = os.getenv('OME_USER', 'test')\n",
      "OME_PASSWD = os.getenv('OME_PASSWD', 'test')\n",
      "CHECK_OME_VERSION = os.getenv('CHECK_OME_VERSION', \"True\") == \"True\"\n",
      "\n",
      "BaseProxy = KnowledgeBase(driver='omero')\n",
      "\n",
      "class Proxy(BaseProxy):\n",
      "    def get_objects_dict(self, klass):\n",
      "        return dict((o.label, o) for o in super(Proxy, self).get_objects(klass))\n",
      "\n",
      "kb = Proxy(OME_HOST, OME_USER, OME_PASSWD, check_ome_version=CHECK_OME_VERSION)\n",
      "kb.connect()\n",
      "kb.start_keep_alive()\n",
      "\n",
      "def cleanup():\n",
      "    print \"# disconnecting the kb\"\n",
      "    kb.disconnect()\n",
      "\n",
      "def make_barcode():\n",
      "    return uuid.uuid4().hex\n",
      "    \n",
      "    \n",
      "sys.exitfunc = cleanup\n",
      "\n",
      "print\n",
      "print \"### KB ENV PRELOADED ###\"\n",
      "print \"# connected to %s\" % OME_HOST\n",
      "print \"# knowledge base: kb\"\n",
      "print \"# extra method: kb.get_objects_dict\"\n",
      "print \"########################\""
     ],
     "language": "python",
     "metadata": {},
     "outputs": [
      {
       "output_type": "stream",
       "stream": "stdout",
       "text": [
        "\n",
        "### KB ENV PRELOADED ###\n",
        "# connected to 192.168.56.101\n",
        "# knowledge base: kb\n",
        "# extra method: kb.get_objects_dict\n",
        "########################\n"
       ]
      }
     ],
     "prompt_number": 1
    },
    {
     "cell_type": "markdown",
     "metadata": {},
     "source": [
      "In the following we will need a container to aliquot DNA from. For the time being, we define a function to build a TiterPlate with 24 wells filled with DNA."
     ]
    },
    {
     "cell_type": "code",
     "collapsed": false,
     "input": [
      "def create_titer_plate(label, action):\n",
      "    conf = {'rows': 6, 'columns': 2, 'label': label,\n",
      "            'barcode': make_barcode(),\n",
      "            'status': kb.ContainerStatus.READY,\n",
      "            'action': action,\n",
      "            }\n",
      "    titer_plate = kb.factory.create(kb.TiterPlate, conf).save()\n",
      "    for row in range(titer_plate.rows):\n",
      "        for column in range(titer_plate.columns):\n",
      "            conf = {'row': row + 1, 'column': column + 1,\n",
      "                    'container': titer_plate,\n",
      "                    'initialVolume': 1.0,\n",
      "                    'currentVolume': 1.0,\n",
      "                    'content': kb.VesselContent.DNA,\n",
      "                    'status': kb.VesselStatus.CONTENTUSABLE,\n",
      "                    'action': action}\n",
      "            kb.factory.create(kb.PlateWell, conf).save()\n",
      "    return titer_plate"
     ],
     "language": "python",
     "metadata": {},
     "outputs": [],
     "prompt_number": 2
    },
    {
     "cell_type": "code",
     "collapsed": false,
     "input": [
      "with kb.context.sandbox():\n",
      "    action = kb.create_an_action()\n",
      "    titer_plate = create_titer_plate('a-foo-plate', action)\n",
      "    for well in kb.get_wells_by_plate(titer_plate):\n",
      "        print well.label, well.slot"
     ],
     "language": "python",
     "metadata": {},
     "outputs": [
      {
       "output_type": "stream",
       "stream": "stdout",
       "text": [
        "A1 1\n",
        "A2 2\n",
        "B1 3\n",
        "B2 4\n",
        "C1 5\n",
        "C2 6\n",
        "D1 7\n",
        "D2 8\n",
        "E1 9\n",
        "E2 10\n",
        "F1 11\n",
        "F2 12\n"
       ]
      }
     ],
     "prompt_number": 3
    },
    {
     "cell_type": "heading",
     "level": 2,
     "metadata": {},
     "source": [
      "Actions that create a chip"
     ]
    },
    {
     "cell_type": "markdown",
     "metadata": {},
     "source": [
      "Basic actions that bring a chip into Omero.biobank:\n",
      "\n",
      " * import with an ActionCategory.IMPORT, no target, to create a chip with VesselStatus.UNUSED, basically something like an import in the stockroom;\n",
      " * import with an ActionCategory.ALIQUOTING from a target of type derived from Vessel, typically Tube or PlateWell, to create a chip with, if everything is ok, a VesselStatus.CONTENTUSABLE.\n"
     ]
    },
    {
     "cell_type": "code",
     "collapsed": false,
     "input": [
      "def create_action_on_well(titer_plate, row, column):\n",
      "    return kb.create_an_action(target=kb.get_well_on_plate(titer_plate, row, column),\n",
      "                               acat=kb.ActionCategory.ALIQUOTING)"
     ],
     "language": "python",
     "metadata": {},
     "outputs": [],
     "prompt_number": 4
    },
    {
     "cell_type": "heading",
     "level": 2,
     "metadata": {},
     "source": [
      "Physical chips"
     ]
    },
    {
     "cell_type": "heading",
     "level": 3,
     "metadata": {},
     "source": [
      "Affymetrix chips"
     ]
    },
    {
     "cell_type": "markdown",
     "metadata": {},
     "source": [
      "We are currently handling two major micro array technologies, Affymetrix and Illumina.\n",
      "\n",
      "The affymetrix chips we have are individually packaged in a stand-alone object with a barcode. We model it using an object `AffymetrixArray`, that is understood as derived from `Tube` but with assigned volume. The instantiation of a `AffymetrixArray` requires the assignement of a value from the enum `AffymetrixAssayType`, besides all other field that are coming from being a `Tube`, that is a `label`, a `barcode`, and a `content`. FIXME: `content` should be DNA, `status`."
     ]
    },
    {
     "cell_type": "code",
     "collapsed": false,
     "input": [
      "def create_affy_chip(label, action):\n",
      "    conf={'label': label,\n",
      "          'assayType': kb.AffymetrixAssayType.GENOMEWIDESNP_6,\n",
      "          'barcode': make_barcode(),\n",
      "          'content': kb.VesselContent.DNA,\n",
      "          'status': kb.VesselStatus.UNUSED, # FIXME, this is confusing\n",
      "          'action': action}\n",
      "    return kb.factory.create(kb.AffymetrixArray, conf).save()"
     ],
     "language": "python",
     "metadata": {},
     "outputs": [],
     "prompt_number": 5
    },
    {
     "cell_type": "code",
     "collapsed": false,
     "input": [
      "with kb.context.sandbox():\n",
      "    action = kb.create_an_action()\n",
      "    affy_chip = create_affy_chip('an-affy-chip', action)\n",
      "    print affy_chip.label, affy_chip.barcode"
     ],
     "language": "python",
     "metadata": {},
     "outputs": [
      {
       "output_type": "stream",
       "stream": "stdout",
       "text": [
        "an-affy-chip ae1a03912a5c4a30a5c5beab4994f2f0\n"
       ]
      }
     ],
     "prompt_number": 6
    },
    {
     "cell_type": "heading",
     "level": 3,
     "metadata": {},
     "source": [
      "Illumina micro arrays"
     ]
    },
    {
     "cell_type": "markdown",
     "metadata": {},
     "source": [
      "Illumina chips are more complex, since they are packages, typically, 12 on a glass support (slide). The slide is  modelled with a class `IlluminaArrayOfArrays`. A `IlluminaArrayOfArray` is a complex object with a `type`, `arrayClass`, and `assayType` choosen, respectively, between the ones listed by the enum `IlluminaArrayOfArraysType`, `IlluminaArrayOfArraysClass` and `IlluminaArrayOfArraysAssayType`.\n",
      "The model `IlluminaArrayOfArrays` is derived from `TiterPlate`."
     ]
    },
    {
     "cell_type": "code",
     "collapsed": false,
     "input": [
      "def create_illumina_array_of_array(label, action):\n",
      "    conf={'status': kb.ContainerStatus.READY,\n",
      "          'assayType': kb.IlluminaArrayOfArraysAssayType.Infinium_HD,\n",
      "          'rows': 6, 'columns': 2,\n",
      "          'arrayClass': kb.IlluminaArrayOfArraysClass.Slide,\n",
      "          'barcode': make_barcode(), 'label': label,\n",
      "          'type': kb.IlluminaArrayOfArraysType.UNKNOWN,\n",
      "          'action': action}\n",
      "    return kb.factory.create(kb.IlluminaArrayOfArrays, conf).save()"
     ],
     "language": "python",
     "metadata": {},
     "outputs": [],
     "prompt_number": 7
    },
    {
     "cell_type": "code",
     "collapsed": false,
     "input": [
      "with kb.context.sandbox():\n",
      "    action = kb.create_an_action()\n",
      "    array = create_illumina_array_of_array('a label', action)\n",
      "    print array.label, array.barcode"
     ],
     "language": "python",
     "metadata": {},
     "outputs": [
      {
       "output_type": "stream",
       "stream": "stdout",
       "text": [
        "a label 3d5b8efbc9e643aab881330db7bf586c\n"
       ]
      }
     ],
     "prompt_number": 8
    },
    {
     "cell_type": "markdown",
     "metadata": {},
     "source": [
      "The actual Illumina chips are describe by the model `IlluminaBeadChipArray`, derived from `PlateWell`.\n",
      "Apart from all the standard `PlateWell` properties, an `IlluminaBeadChipArray` instance has the property `assayType` chosen from the enum `IlluminaBeadChipAssayType`."
     ]
    },
    {
     "cell_type": "code",
     "collapsed": false,
     "input": [
      "def create_bead_chip_array(array, assay_type, row, column, action):\n",
      "    conf = {\n",
      "    'content': kb.VesselContent.DNA, 'status': kb.VesselStatus.CONTENTUSABLE,\n",
      "    'container': array, 'assayType': assay_type,\n",
      "    'row': row, 'column': column,'action': action,\n",
      "    }\n",
      "    return kb.factory.create(kb.IlluminaBeadChipArray, conf).save()"
     ],
     "language": "python",
     "metadata": {},
     "outputs": [],
     "prompt_number": 9
    },
    {
     "cell_type": "code",
     "collapsed": false,
     "input": [
      "with kb.context.sandbox():\n",
      "    action = kb.create_an_action()\n",
      "    titer_plate = create_titer_plate('a-fake-plate-well', action)\n",
      "    print 'we have a titer_plate', titer_plate\n",
      "    array = create_illumina_array_of_array('a-fake-illumina-array', action)\n",
      "    print 'we have an array'\n",
      "    assay_type = kb.IlluminaBeadChipAssayType.HumanOmni5_4v1_B\n",
      "    for row in range(1, array.rows + 1):\n",
      "        for column in range(1, array.columns + 1):\n",
      "            action_on_well = create_action_on_well(titer_plate, row, column)\n",
      "            create_bead_chip_array(array, assay_type, row, column, action_on_well)\n",
      "            print 'created well ({}, {})'.format(row, column)"
     ],
     "language": "python",
     "metadata": {},
     "outputs": [
      {
       "output_type": "stream",
       "stream": "stdout",
       "text": [
        "we have a titer_plate <bl.vl.kb.drivers.omero.objects_collections.TiterPlate object at 0x4857990>\n",
        "we have an array"
       ]
      },
      {
       "output_type": "stream",
       "stream": "stdout",
       "text": [
        "\n",
        "created well (1, 1)"
       ]
      },
      {
       "output_type": "stream",
       "stream": "stdout",
       "text": [
        "\n",
        "created well (1, 2)"
       ]
      },
      {
       "output_type": "stream",
       "stream": "stdout",
       "text": [
        "\n",
        "created well (2, 1)"
       ]
      },
      {
       "output_type": "stream",
       "stream": "stdout",
       "text": [
        "\n",
        "created well (2, 2)"
       ]
      },
      {
       "output_type": "stream",
       "stream": "stdout",
       "text": [
        "\n",
        "created well (3, 1)"
       ]
      },
      {
       "output_type": "stream",
       "stream": "stdout",
       "text": [
        "\n",
        "created well (3, 2)"
       ]
      },
      {
       "output_type": "stream",
       "stream": "stdout",
       "text": [
        "\n",
        "created well (4, 1)"
       ]
      },
      {
       "output_type": "stream",
       "stream": "stdout",
       "text": [
        "\n",
        "created well (4, 2)"
       ]
      },
      {
       "output_type": "stream",
       "stream": "stdout",
       "text": [
        "\n",
        "created well (5, 1)"
       ]
      },
      {
       "output_type": "stream",
       "stream": "stdout",
       "text": [
        "\n",
        "created well (5, 2)"
       ]
      },
      {
       "output_type": "stream",
       "stream": "stdout",
       "text": [
        "\n",
        "created well (6, 1)"
       ]
      },
      {
       "output_type": "stream",
       "stream": "stdout",
       "text": [
        "\n",
        "created well (6, 2)"
       ]
      },
      {
       "output_type": "stream",
       "stream": "stdout",
       "text": [
        "\n"
       ]
      }
     ],
     "prompt_number": 10
    }
   ],
   "metadata": {}
  }
 ]
}